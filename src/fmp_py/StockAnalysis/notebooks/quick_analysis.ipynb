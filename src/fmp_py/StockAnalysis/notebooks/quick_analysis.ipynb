{
 "cells": [
  {
   "cell_type": "markdown",
   "id": "1d4c8420",
   "metadata": {},
   "source": [
    "# Quick Stock Analysis with FMP API\n",
    "\n",
    "A streamlined notebook for quick stock analysis and market overview."
   ]
  },
  {
   "cell_type": "code",
   "execution_count": null,
   "id": "803d8019",
   "metadata": {},
   "outputs": [],
   "source": [
    "# Quick setup\n",
    "import sys, os\n",
    "sys.path.append(os.path.dirname(os.getcwd()))\n",
    "\n",
    "from client.fmp_client import FMPClient\n",
    "from utils.helpers import format_currency, format_percentage\n",
    "from dotenv import load_dotenv\n",
    "\n",
    "# Load environment variables\n",
    "load_dotenv()\n",
    "\n",
    "# Get API key from environment\n",
    "api_key = os.getenv('FMP_API_KEY')\n",
    "if not api_key:\n",
    "    print(\"❌ Please set FMP_API_KEY in .env file\")\n",
    "    exit()\n",
    "\n",
    "# Initialize client\n",
    "client = FMPClient(api_key)\n",
    "print(\"✅ FMP Client ready!\")"
   ]
  },
  {
   "cell_type": "code",
   "execution_count": null,
   "id": "251a7c8f",
   "metadata": {},
   "outputs": [],
   "source": [
    "# Quick stock analysis\n",
    "symbol = \"AAPL\"  # Change this to any stock\n",
    "\n",
    "quote = client.get_quote(symbol)\n",
    "if quote:\n",
    "    print(f\"📊 {symbol} Quick Analysis\")\n",
    "    print(f\"Price: {format_currency(quote['price'])}\")\n",
    "    print(f\"Change: {format_percentage(quote['changesPercentage']/100)}\")\n",
    "    print(f\"Market Cap: {format_currency(quote['marketCap'])}\")\n",
    "    print(f\"P/E: {quote['pe']:.2f}\")\n",
    "    print(f\"Volume: {quote['volume']:,}\")"
   ]
  },
  {
   "cell_type": "code",
   "execution_count": null,
   "id": "686f1e49",
   "metadata": {},
   "outputs": [],
   "source": [
    "# Compare multiple stocks\n",
    "symbols = [\"AAPL\", \"MSFT\", \"GOOGL\", \"AMZN\"]\n",
    "quotes = client.get_quotes(symbols)\n",
    "\n",
    "if quotes:\n",
    "    print(\"📈 Stock Comparison:\")\n",
    "    for q in quotes:\n",
    "        print(f\"{q['symbol']}: {format_currency(q['price'])} ({format_percentage(q['changesPercentage']/100)})\")"
   ]
  },
  {
   "cell_type": "code",
   "execution_count": null,
   "id": "2f3d7872",
   "metadata": {},
   "outputs": [],
   "source": [
    "# Market overview\n",
    "sectors = client.get_sector_performance()\n",
    "if sectors:\n",
    "    print(\"🌍 Top Sector Performers:\")\n",
    "    for sector in sectors[:5]:\n",
    "        print(f\"{sector['sector']}: {format_percentage(float(sector['changesPercentage'])/100)}\")"
   ]
  }
 ],
 "metadata": {
  "language_info": {
   "name": "python"
  }
 },
 "nbformat": 4,
 "nbformat_minor": 5
}
